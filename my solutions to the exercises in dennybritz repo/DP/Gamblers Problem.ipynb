{
 "cells": [
  {
   "cell_type": "markdown",
   "metadata": {},
   "source": [
    "### This is Example 4.3. Gambler’s Problem from Sutton's book.\n",
    "\n",
    "A gambler has the opportunity to make bets on the outcomes of a sequence of coin flips. \n",
    "If the coin comes up heads, he wins as many dollars as he has staked on that flip; \n",
    "if it is tails, he loses his stake. The game ends when the gambler wins by reaching his goal of $100, \n",
    "or loses by running out of money. \n",
    "\n",
    "On each flip, the gambler must decide what portion of his capital to stake, in integer numbers of dollars. \n",
    "This problem can be formulated as an undiscounted, episodic, finite MDP. \n",
    "\n",
    "The state is the gambler’s capital, s ∈ {1, 2, . . . , 99}.\n",
    "The actions are stakes, a ∈ {0, 1, . . . , min(s, 100 − s)}. \n",
    "The reward is zero on all transitions except those on which the gambler reaches his goal, when it is +1.\n",
    "\n",
    "The state-value function then gives the probability of winning from each state. A policy is a mapping from levels of capital to stakes. The optimal policy maximizes the probability of reaching the goal. Let p_h denote the probability of the coin coming up heads. If p_h is known, then the entire problem is known and it can be solved, for instance, by value iteration.\n"
   ]
  },
  {
   "cell_type": "code",
   "execution_count": 29,
   "metadata": {
    "tags": []
   },
   "outputs": [],
   "source": [
    "import numpy as np\n",
    "import sys\n",
    "import matplotlib.pyplot as plt\n",
    "if \"../\" not in sys.path:\n",
    "  sys.path.append(\"../\") "
   ]
  },
  {
   "cell_type": "markdown",
   "metadata": {},
   "source": [
    "\n",
    "### Exercise 4.9 (programming)\n",
    "\n",
    "Implement value iteration for the gambler’s problem and solve it for p_h = 0.25 and p_h = 0.55.\n",
    "\n"
   ]
  },
  {
   "cell_type": "code",
   "execution_count": 6,
   "metadata": {
    "tags": []
   },
   "outputs": [],
   "source": [
    "def value_iteration_for_gamblers(p_h, theta=0.0001, discount_factor=1.0):\n",
    "    \"\"\"\n",
    "    Args:\n",
    "        p_h: Probability of the coin coming up heads\n",
    "    \"\"\"\n",
    "    \n",
    "    def one_step_lookahead(s, V, rewards):\n",
    "        \"\"\"\n",
    "        Helper function to calculate the value for all actions in a given state.\n",
    "        \n",
    "        Args:\n",
    "            s: The gambler’s capital. Integer.\n",
    "            V: The vector that contains values at each state. \n",
    "            rewards: The reward vector.\n",
    "                        \n",
    "        Returns:\n",
    "            q_s_a vector containing the expected value of each action. \n",
    "            Its length equals to the number of actions.\n",
    "        \"\"\"\n",
    "        \n",
    "        nA = 1 + min(s, 100 - s)\n",
    "        q_s_a = np.zeros(nA)\n",
    "        p_t = 1 - p_h\n",
    "        \n",
    "        for a in range(nA):\n",
    "            first = p_h * (rewards[s + a] + discount_factor * V[s + a])\n",
    "            second = p_t * (rewards[s - a] + discount_factor * V[s - a])\n",
    "            q_s_a[a] = first + second\n",
    "        \n",
    "        return q_s_a\n",
    "    \n",
    "    \n",
    "    nS = 101\n",
    "    \n",
    "    V = np.zeros(nS)\n",
    "    V_old = np.zeros_like(V)\n",
    "    policy = np.zeros_like(V)\n",
    "    rewards = np.zeros_like(V)\n",
    "    \n",
    "    rewards[-1] = 1\n",
    "    \n",
    "    while True:\n",
    "        for s in range(1, nS - 1):\n",
    "            q_s_a = one_step_lookahead(s, V_old, rewards)\n",
    "            V[s] = max(q_s_a)\n",
    "            policy[s] = np.argmax(q_s_a)\n",
    "            \n",
    "        for s in range(nS):\n",
    "            delta = abs(V_old[s] - V[s])\n",
    "            if delta > theta:\n",
    "                V_old[:] = V[:]\n",
    "                break\n",
    "        else:\n",
    "            return policy[1: -1], V"
   ]
  },
  {
   "cell_type": "code",
   "execution_count": 42,
   "metadata": {
    "tags": []
   },
   "outputs": [
    {
     "name": "stdout",
     "output_type": "stream",
     "text": [
      "Optimized Policy:\n",
      "[ 1.  2.  3.  4.  5.  6.  0.  0.  0.  0.  0.  0. 12. 11. 10.  9.  8.  7.\n",
      "  0.  0.  0.  0.  0.  0.  0.  1.  2.  3.  4.  5.  6.  0.  0.  0.  0.  0.\n",
      "  0. 12. 11. 10.  9.  8.  7.  0.  0.  0.  0.  0.  0.  0.  1.  2.  3.  4.\n",
      "  5.  6.  0.  0.  0.  0.  0.  0. 12. 11. 10.  9.  8.  7.  0.  0.  0.  0.\n",
      "  0.  0.  0.  1.  2.  3.  4.  5.  6.  0.  0.  0.  0.  0.  0. 12. 11. 10.\n",
      "  9.  8.  7.  0.  0.  0.  0.  0.  0.]\n",
      "\n",
      "Optimized Value Function:\n",
      "[0.00000000e+00 7.27139413e-05 2.91157514e-04 6.93220645e-04\n",
      " 1.16553530e-03 1.77117810e-03 2.78102979e-03 4.03504074e-03\n",
      " 4.66214120e-03 5.60118258e-03 7.08471239e-03 9.04084742e-03\n",
      " 1.11241192e-02 1.56794600e-02 1.61428787e-02 1.69527046e-02\n",
      " 1.86512806e-02 1.98258869e-02 2.24056356e-02 2.73845196e-02\n",
      " 2.83388495e-02 3.04937363e-02 3.61633897e-02 3.84953022e-02\n",
      " 4.44964767e-02 6.25000000e-02 6.27181418e-02 6.33734725e-02\n",
      " 6.45796619e-02 6.59966059e-02 6.78135343e-02 7.08430894e-02\n",
      " 7.46051222e-02 7.64864236e-02 7.93035477e-02 8.37541372e-02\n",
      " 8.96225423e-02 9.58723575e-02 1.09538380e-01 1.10928636e-01\n",
      " 1.13358114e-01 1.18453842e-01 1.21977661e-01 1.29716907e-01\n",
      " 1.44653559e-01 1.47516549e-01 1.53981209e-01 1.70990169e-01\n",
      " 1.77985907e-01 1.95989430e-01 2.50000000e-01 2.50218142e-01\n",
      " 2.50873473e-01 2.52079662e-01 2.53496606e-01 2.55313534e-01\n",
      " 2.58343089e-01 2.62105122e-01 2.63986424e-01 2.66803548e-01\n",
      " 2.71254137e-01 2.77122542e-01 2.83372357e-01 2.97038380e-01\n",
      " 2.98428636e-01 3.00858114e-01 3.05953842e-01 3.09477661e-01\n",
      " 3.17216907e-01 3.32153559e-01 3.35016549e-01 3.41481209e-01\n",
      " 3.58490169e-01 3.65485907e-01 3.83489430e-01 4.37500000e-01\n",
      " 4.38154425e-01 4.40120418e-01 4.43738986e-01 4.47989818e-01\n",
      " 4.53440603e-01 4.62529268e-01 4.73815367e-01 4.79459271e-01\n",
      " 4.87910643e-01 5.01262411e-01 5.18867627e-01 5.37617072e-01\n",
      " 5.78615140e-01 5.82785908e-01 5.90074342e-01 6.05361525e-01\n",
      " 6.15932982e-01 6.39150720e-01 6.83960676e-01 6.92549646e-01\n",
      " 7.11943626e-01 7.62970507e-01 7.83957720e-01 8.37968290e-01\n",
      " 0.00000000e+00]\n",
      "\n"
     ]
    }
   ],
   "source": [
    "policy, v = value_iteration_for_gamblers(0.25)\n",
    "\n",
    "print(\"Optimized Policy:\")\n",
    "print(policy)\n",
    "print(\"\")\n",
    "\n",
    "print(\"Optimized Value Function:\")\n",
    "print(v)\n",
    "print(\"\")"
   ]
  },
  {
   "cell_type": "code",
   "execution_count": 43,
   "metadata": {
    "tags": []
   },
   "outputs": [
    {
     "data": {
      "image/png": "[encoded data removed]",
      "text/plain": [
       "<Figure size 640x480 with 1 Axes>"
      ]
     },
     "metadata": {},
     "output_type": "display_data"
    }
   ],
   "source": [
    "# Plotting Final states values (the probabilities of winning from each state) vs State (Capital)\n",
    "\n",
    "plt.plot(list(range(1, 100)), v[1: -1])\n",
    "\n",
    "plt.show()"
   ]
  },
  {
   "cell_type": "code",
   "execution_count": 45,
   "metadata": {
    "tags": []
   },
   "outputs": [
    {
     "data": {
      "image/png": "[encoded data removed]",
      "text/plain": [
       "<Figure size 640x480 with 1 Axes>"
      ]
     },
     "metadata": {},
     "output_type": "display_data"
    }
   ],
   "source": [
    "# Plotting Capital vs Final Policy\n",
    "\n",
    "plt.bar(list(range(1, 100)), policy, align = 'center', alpha = 0.5)\n",
    "\n",
    "plt.show()"
   ]
  },
  {
   "cell_type": "code",
   "execution_count": null,
   "metadata": {},
   "outputs": [],
   "source": []
  }
 ],
 "metadata": {
  "kernelspec": {
   "display_name": "Python 3 (ipykernel)",
   "language": "python",
   "name": "python3"
  },
  "language_info": {
   "codemirror_mode": {
    "name": "ipython",
    "version": 3
   },
   "file_extension": ".py",
   "mimetype": "text/x-python",
   "name": "python",
   "nbconvert_exporter": "python",
   "pygments_lexer": "ipython3",
   "version": "3.9.5"
  }
 },
 "nbformat": 4,
 "nbformat_minor": 4
}
